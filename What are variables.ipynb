{
 "cells": [
  {
   "cell_type": "code",
   "execution_count": 3,
   "metadata": {},
   "outputs": [
    {
     "name": "stdout",
     "output_type": "stream",
     "text": [
      "Not sure if a is less than b\n"
     ]
    }
   ],
   "source": [
    "a = 4\n",
    "b = 3\n",
    "if a < b:\n",
    "    print (\"a is less than b\")\n",
    "    print (\"a is definetly less than b\")\n",
    "print (\"Not sure if a is less than b\")   "
   ]
  },
  {
   "cell_type": "code",
   "execution_count": 5,
   "metadata": {},
   "outputs": [
    {
     "name": "stdout",
     "output_type": "stream",
     "text": [
      "c is not less than d\n"
     ]
    }
   ],
   "source": [
    "c = 6\n",
    "d = 5\n",
    "if c < d:\n",
    "    print (\"c is less than d\")\n",
    "else:\n",
    "    print (\"c is not less than d\")"
   ]
  },
  {
   "cell_type": "code",
   "execution_count": 11,
   "metadata": {},
   "outputs": [
    {
     "name": "stdout",
     "output_type": "stream",
     "text": [
      "if c is greater than d by 10\n"
     ]
    }
   ],
   "source": [
    "c = 18\n",
    "d = 7\n",
    "if c < d:\n",
    "    print (\"c is less than d\")\n",
    "elif c == d:\n",
    "    print (\"c is equal to d\")\n",
    "elif c > d + 10:\n",
    "    print(\"if c is greater than d by 10\")\n",
    "else:\n",
    "    print (\"c is not less than d\")"
   ]
  },
  {
   "cell_type": "code",
   "execution_count": 14,
   "metadata": {},
   "outputs": [
    {
     "name": "stdout",
     "output_type": "stream",
     "text": [
      "bmi: \n",
      "2.5\n",
      "Arpan\n",
      "is  not over weight\n"
     ]
    }
   ],
   "source": [
    "name = \"Arpan\"\n",
    "height_ft = 6\n",
    "weight_kg = 90\n",
    "bmi = weight_kg / (height_ft ** 2)\n",
    "print(\"bmi: \")\n",
    "print(bmi)\n",
    "if bmi < 25:\n",
    "    print (name)\n",
    "    print (\"is  not over weight\")\n",
    "else:\n",
    "    print(name)\n",
    "    print(\"is over weight\")"
   ]
  },
  {
   "cell_type": "code",
   "execution_count": null,
   "metadata": {},
   "outputs": [],
   "source": []
  },
  {
   "cell_type": "code",
   "execution_count": null,
   "metadata": {},
   "outputs": [],
   "source": []
  }
 ],
 "metadata": {
  "kernelspec": {
   "display_name": "Python 3",
   "language": "python",
   "name": "python3"
  },
  "language_info": {
   "codemirror_mode": {
    "name": "ipython",
    "version": 3
   },
   "file_extension": ".py",
   "mimetype": "text/x-python",
   "name": "python",
   "nbconvert_exporter": "python",
   "pygments_lexer": "ipython3",
   "version": "3.7.1"
  }
 },
 "nbformat": 4,
 "nbformat_minor": 2
}
